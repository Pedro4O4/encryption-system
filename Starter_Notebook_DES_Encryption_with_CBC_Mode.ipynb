{
 "cells": [
  {
   "cell_type": "markdown",
   "metadata": {
    "id": "20MZOwCVQ78k"
   },
   "source": [
    "# Starter Notebook: DES Encryption with CBC Mode"
   ]
  },
  {
   "cell_type": "code",
   "metadata": {
    "id": "MSBcROavQzZD",
    "ExecuteTime": {
     "end_time": "2025-03-07T11:28:34.649554Z",
     "start_time": "2025-03-07T11:28:34.640790Z"
    }
   },
   "source": [
    "\n",
    "# Starter Notebook: DES Encryption with CBC Mode\n",
    "# Group Members: [Add your names and IDs here]\n",
    "\n",
    "# DES Tables\n",
    "IP = [58, 50, 42, 34, 26, 18, 10, 2, 60, 52, 44, 36, 28, 20, 12, 4,\n",
    "      62, 54, 46, 38, 30, 22, 14, 6, 64, 56, 48, 40, 32, 24, 16, 8,\n",
    "      57, 49, 41, 33, 25, 17, 9, 1, 59, 51, 43, 35, 27, 19, 11, 3,\n",
    "      61, 53, 45, 37, 29, 21, 13, 5, 63, 55, 47, 39, 31, 23, 15, 7]\n",
    "\n",
    "FP = [40, 8, 48, 16, 56, 24, 64, 32, 39, 7, 47, 15, 55, 23, 63, 31,\n",
    "      38, 6, 46, 14, 54, 22, 62, 30, 37, 5, 45, 13, 53, 21, 61, 29,\n",
    "      36, 4, 44, 12, 52, 20, 60, 28, 35, 3, 43, 11, 51, 19, 59, 27,\n",
    "      34, 2, 42, 10, 50, 18, 58, 26, 33, 1, 41, 9, 49, 17, 57, 25]\n",
    "\n",
    "E = [32, 1, 2, 3, 4, 5, 4, 5, 6, 7, 8, 9, 8, 9, 10, 11, 12, 13, 12, 13, 14, 15, 16, 17,\n",
    "     16, 17, 18, 19, 20, 21, 20, 21, 22, 23, 24, 25, 24, 25, 26, 27, 28, 29, 28, 29, 30, 31, 32, 1]\n",
    "\n",
    "P = [16, 7, 20, 21, 29, 12, 28, 17, 1, 15, 23, 26, 5, 18, 31, 10,\n",
    "     2, 8, 24, 14, 32, 27, 3, 9, 19, 13, 30, 6, 22, 11, 4, 25]\n",
    "\n",
    "S_BOXES = [\n",
    "    [[14, 4, 13, 1, 2, 15, 11, 8, 3, 10, 6, 12, 5, 9, 0, 7],\n",
    "     [0, 15, 7, 4, 14, 2, 13, 1, 10, 6, 12, 11, 9, 5, 3, 8],\n",
    "     [4, 1, 14, 8, 13, 6, 2, 11, 15, 12, 9, 7, 3, 10, 5, 0],\n",
    "     [15, 12, 8, 2, 4, 9, 1, 7, 5, 11, 3, 14, 10, 0, 6, 13]],\n",
    "\n",
    "    [[15, 1, 8, 14, 6, 11, 3, 4, 9, 7, 2, 13, 12, 0, 5, 10],\n",
    "     [3, 13, 4, 7, 15, 2, 8, 14, 12, 0, 1, 10, 6, 9, 11, 5],\n",
    "     [0, 14, 7, 11, 10, 4, 13, 1, 5, 8, 12, 6, 9, 3, 2, 15],\n",
    "     [13, 8, 10, 1, 3, 15, 4, 2, 11, 6, 7, 12, 0, 5, 14, 9]],\n",
    "\n",
    "    [[10, 0, 9, 14, 6, 3, 15, 5, 1, 13, 12, 7, 11, 4, 2, 8],\n",
    "     [13, 7, 0, 9, 3, 4, 6, 10, 2, 8, 5, 14, 12, 11, 15, 1],\n",
    "     [13, 6, 4, 9, 8, 15, 3, 0, 11, 1, 2, 12, 5, 10, 14, 7],\n",
    "     [1, 10, 13, 0, 6, 9, 8, 7, 4, 15, 14, 3, 11, 5, 2, 12]],\n",
    "\n",
    "    [[7, 13, 14, 3, 0, 6, 9, 10, 1, 2, 8, 5, 11, 12, 4, 15],\n",
    "     [13, 8, 11, 5, 6, 15, 0, 3, 4, 7, 2, 12, 1, 10, 14, 9],\n",
    "     [10, 6, 9, 0, 12, 11, 7, 13, 15, 1, 3, 14, 5, 2, 8, 4],\n",
    "     [3, 15, 0, 6, 10, 1, 13, 8, 9, 4, 5, 11, 12, 7, 2, 14]],\n",
    "\n",
    "    [[2, 12, 4, 1, 7, 10, 11, 6, 8, 5, 3, 15, 13, 0, 14, 9],\n",
    "     [14, 11, 2, 12, 4, 7, 13, 1, 5, 0, 15, 10, 3, 9, 8, 6],\n",
    "     [4, 2, 1, 11, 10, 13, 7, 8, 15, 9, 12, 5, 6, 3, 0, 14],\n",
    "     [11, 8, 12, 7, 1, 14, 2, 13, 6, 15, 0, 9, 10, 4, 5, 3]],\n",
    "\n",
    "    [[12, 1, 10, 15, 9, 2, 6, 8, 0, 13, 3, 4, 14, 7, 5, 11],\n",
    "     [10, 15, 4, 2, 7, 12, 9, 5, 6, 1, 13, 14, 0, 11, 3, 8],\n",
    "     [9, 14, 15, 5, 2, 8, 12, 3, 7, 0, 4, 10, 1, 13, 11, 6],\n",
    "     [4, 3, 2, 12, 9, 5, 15, 10, 11, 14, 1, 7, 6, 0, 8, 13]],\n",
    "\n",
    "    [[4, 11, 2, 14, 15, 0, 8, 13, 3, 12, 9, 7, 5, 10, 6, 1],\n",
    "     [13, 0, 11, 7, 4, 9, 1, 10, 14, 3, 5, 12, 2, 15, 8, 6],\n",
    "     [1, 4, 11, 13, 12, 3, 7, 14, 10, 15, 6, 8, 0, 5, 9, 2],\n",
    "     [6, 11, 13, 8, 1, 4, 10, 7, 9, 5, 0, 15, 14, 2, 3, 12]],\n",
    "\n",
    "    [[13, 2, 8, 4, 6, 15, 11, 1, 10, 9, 3, 14, 5, 0, 12, 7],\n",
    "     [1, 15, 13, 8, 10, 3, 7, 4, 12, 5, 6, 11, 0, 14, 9, 2],\n",
    "     [7, 11, 4, 1, 9, 12, 14, 2, 0, 6, 10, 13, 15, 3, 5, 8],\n",
    "     [2, 1, 14, 7, 4, 10, 8, 13, 15, 12, 9, 0, 3, 5, 6, 11]]\n",
    "]\n",
    "print(\"hi\")\n",
    "\n",
    "# 16 round keys (48 bits each)\n",
    "round_keys = [\"010101010101010101010101010101010101010101010101\" for _ in range(16)]"
   ],
   "outputs": [
    {
     "name": "stdout",
     "output_type": "stream",
     "text": [
      "hi\n"
     ]
    }
   ],
   "execution_count": 41
  },
  {
   "cell_type": "code",
   "metadata": {
    "ExecuteTime": {
     "end_time": "2025-03-07T12:33:57.063353Z",
     "start_time": "2025-03-07T12:33:57.056480Z"
    }
   },
   "source": [
    "# method that order bits in the inital permutation\n",
    "\n",
    "round_num = 0\n",
    "def initial_permutation(plain_text):\n",
    "    permuted_text = [0] * 64\n",
    "    for i in range(64):\n",
    "        permuted_text[i] = plain_text[IP[i]-1]\n",
    "    return permuted_text\n",
    "\n",
    "\n",
    "def expand(arr):\n",
    "    expanded_arr = [0]*48\n",
    "    for i in range(48):\n",
    "        expanded_arr[i] =  arr[E[i]-1]\n",
    "        \n",
    "    return expanded_arr\n",
    "\n",
    "# used for testing\n",
    "plain_text = [\n",
    "    0,0,0,0,0,0,0,1,0,0,1,0,0,0,1,1,0,1,0,0,0,1,0,1,0,1,1,0,0,1,1,1,1,0,0,0,1,0,0,1,1,0,1,0,1,0,1,1,1,1,0,0,1,1,0,1,1,1,1,0,1,1,1,1\n",
    "]\n",
    "\n",
    "#firstly permutate the text\n",
    "permuted_text = initial_permutation(plain_text)\n",
    "\n",
    "\n",
    "#secondly split the text\n",
    "left = [0]*32\n",
    "right = [0] * 32\n",
    "for i in range(32):\n",
    "    left[i] = permuted_text[i]\n",
    "    right[i] = permuted_text[i + 32]\n",
    "\n",
    "\n",
    "\n",
    "# thirdly perform expansion on the right half\n",
    "expanded_right0 = expand(right)\n",
    "xor_result = [0]*48\n",
    "\n",
    "\n",
    "#fourthly perform xor with the round key\n",
    "roundKeyArr = [0]*48\n",
    "for i in range(48):\n",
    "    roundKeyArr[i] = int(round_keys[round_num][i])\n",
    "\n",
    "for i in range(48):\n",
    "    xor_result[i] = expanded_right0[i]^roundKeyArr[i]\n",
    "\n",
    "\n",
    "#test the result\n",
    "print(xor_result)\n",
    "\n",
    "\n",
    "\n",
    "print(left)\n",
    "print(right)\n",
    "\n",
    "# method that order bits in the final permutation\n",
    "# def final_permutation(plain_text):\n",
    "#     return ''.join([plain_text[i - 1] for i in FP])\n",
    "\n",
    "# # method that expands the 32 bits input to 48 bits to be compatable with the key in each round\n",
    "# def expansion(block):\n",
    "#     return ''.join([block[i - 1] for i in E])\n",
    "\n",
    "# #method that applies permutation in each round\n",
    "# def permutation(block):\n",
    "#     return ''.join([block[i - 1] for i in P])\n",
    "\n",
    "# #method for s-box substitution\n",
    "# def s_box(block):\n",
    "#     output=\"\"\n",
    "#     for i in range(8):\n",
    "#         row= //first row in first array inside 2d array bec they are 3d array\n",
    "#         col= //first col in first array inside 2d array\n"
   ],
   "outputs": [
    {
     "name": "stdout",
     "output_type": "stream",
     "text": [
      "[0, 0, 1, 0, 1, 1, 1, 1, 0, 1, 0, 0, 0, 0, 0, 0, 0, 0, 0, 0, 0, 0, 0, 0, 0, 0, 1, 0, 1, 1, 1, 1, 0, 1, 0, 0, 0, 0, 0, 0, 0, 0, 0, 0, 0, 0, 0, 0]\n",
      "[1, 1, 0, 0, 1, 1, 0, 0, 0, 0, 0, 0, 0, 0, 0, 0, 1, 1, 0, 0, 1, 1, 0, 0, 1, 1, 1, 1, 1, 1, 1, 1]\n",
      "[1, 1, 1, 1, 0, 0, 0, 0, 1, 0, 1, 0, 1, 0, 1, 0, 1, 1, 1, 1, 0, 0, 0, 0, 1, 0, 1, 0, 1, 0, 1, 0]\n"
     ]
    }
   ],
   "execution_count": 114
  },
  {
   "cell_type": "code",
   "metadata": {
    "ExecuteTime": {
     "end_time": "2025-03-07T12:33:59.457129Z",
     "start_time": "2025-03-07T12:33:59.452131Z"
    }
   },
   "source": [
    "def S_BOXES_SUBSTITUTION(xor_result):\n",
    "    decimal_list = []\n",
    "    S_BOXES_Result = []\n",
    "    i = 0\n",
    "    while i < 8:\n",
    "        six_numbers = xor_result[i*6:(i+1)*6]\n",
    "        print(f\"Six numbers no.{i+1}: {six_numbers}\")\n",
    "        row = int(str(six_numbers[0]) + str(six_numbers[-1]), 2)\n",
    "        col = int(''.join(map(str, six_numbers[1:5])), 2)\n",
    "        decimal = S_BOXES[i][row][col]\n",
    "        decimal_list.append(decimal)\n",
    "        binary = bin(decimal)[2:].zfill(4)\n",
    "        S_BOXES_Result.append(binary)\n",
    "        print(f\"Decimal no.{i+1}:{decimal_list}\")\n",
    "        print(f\"S_box{i+1}:{S_BOXES_Result}\")\n",
    "        i += 1\n",
    "    return ''.join(S_BOXES_Result)\n",
    "\n",
    "#S_BOXES_SUBSTITUTION is done by pedro (:\n"
   ],
   "outputs": [],
   "execution_count": 115
  },
  {
   "metadata": {
    "ExecuteTime": {
     "end_time": "2025-03-07T12:05:54.625491Z",
     "start_time": "2025-03-07T12:05:54.622663Z"
    }
   },
   "cell_type": "code",
   "source": [
    "# Call the S_BOXES_SUBSTITUTION function and print the result\n",
    "S_BOXES_Result = S_BOXES_SUBSTITUTION(xor_result)\n",
    "print(\"S-BOX Result:\", S_BOXES_Result)"
   ],
   "outputs": [
    {
     "name": "stdout",
     "output_type": "stream",
     "text": [
      "Six numbers no.1: [0, 0, 1, 0, 1, 1]\n",
      "Decimal no.1: [2]\n",
      "S_box1: ['0010']\n",
      "Six numbers no.2: [1, 1, 0, 1, 0, 0]\n",
      "Decimal no.2: [2, 12]\n",
      "S_box2: ['0010', '1100']\n",
      "Six numbers no.3: [0, 0, 0, 0, 0, 0]\n",
      "Decimal no.3: [2, 12, 10]\n",
      "S_box3: ['0010', '1100', '1010']\n",
      "Six numbers no.4: [0, 0, 0, 0, 0, 0]\n",
      "Decimal no.4: [2, 12, 10, 7]\n",
      "S_box4: ['0010', '1100', '1010', '0111']\n",
      "Six numbers no.5: [0, 0, 1, 0, 1, 1]\n",
      "Decimal no.5: [2, 12, 10, 7, 7]\n",
      "S_box5: ['0010', '1100', '1010', '0111', '0111']\n",
      "Six numbers no.6: [1, 1, 0, 1, 0, 0]\n",
      "Decimal no.6: [2, 12, 10, 7, 7, 4]\n",
      "S_box6: ['0010', '1100', '1010', '0111', '0111', '0100']\n",
      "Six numbers no.7: [0, 0, 0, 0, 0, 0]\n",
      "Decimal no.7: [2, 12, 10, 7, 7, 4, 4]\n",
      "S_box7: ['0010', '1100', '1010', '0111', '0111', '0100', '0100']\n",
      "Six numbers no.8: [0, 0, 0, 0, 0, 0]\n",
      "Decimal no.8: [2, 12, 10, 7, 7, 4, 4, 13]\n",
      "S_box8: ['0010', '1100', '1010', '0111', '0111', '0100', '0100', '1101']\n",
      "S-BOX Result: 00101100101001110111010001001101\n"
     ]
    }
   ],
   "execution_count": 77
  },
  {
   "cell_type": "code",
   "metadata": {
    "ExecuteTime": {
     "end_time": "2025-03-07T12:34:01.587594Z",
     "start_time": "2025-03-07T12:34:01.583590Z"
    }
   },
   "source": "",
   "outputs": [
    {
     "name": "stdout",
     "output_type": "stream",
     "text": [
      "Permuted Bits: ['1', '0', '1', '0', '1', '0', '0', '0', '0', '1', '0', '1', '1', '1', '0', '0', '0', '0', '0', '1', '1', '0', '1', '1', '1', '0', '1', '1', '1', '1', '0', '0']\n",
      "[1, 1, 0, 0, 1, 1, 0, 0, 0, 0, 0, 0, 0, 0, 0, 0, 1, 1, 0, 0, 1, 1, 0, 0, 1, 1, 1, 1, 1, 1, 1, 1]\n"
     ]
    }
   ],
   "execution_count": 116
  },
  {
   "metadata": {
    "ExecuteTime": {
     "end_time": "2025-03-07T12:34:03.141786Z",
     "start_time": "2025-03-07T12:34:03.137658Z"
    }
   },
   "cell_type": "code",
   "source": "",
   "outputs": [
    {
     "name": "stdout",
     "output_type": "stream",
     "text": [
      "[1, 1, 0, 0, 1, 1, 0, 0, 0, 0, 0, 0, 0, 0, 0, 0, 1, 1, 0, 0, 1, 1, 0, 0, 1, 1, 1, 1, 1, 1, 1, 1]\n",
      "Permuted Bits Int: [1, 0, 1, 0, 1, 0, 0, 0, 0, 1, 0, 1, 1, 1, 0, 0, 0, 0, 0, 1, 1, 0, 1, 1, 1, 0, 1, 1, 1, 1, 0, 0]\n",
      "XOR Result to Next Round: [0, 1, 1, 0, 0, 1, 0, 0, 0, 1, 0, 1, 1, 1, 0, 0, 1, 1, 0, 1, 0, 1, 1, 1, 0, 1, 0, 0, 0, 0, 1, 1]\n"
     ]
    }
   ],
   "execution_count": 117
  },
  {
   "metadata": {
    "ExecuteTime": {
     "end_time": "2025-03-07T12:34:05.812471Z",
     "start_time": "2025-03-07T12:34:05.809470Z"
    }
   },
   "cell_type": "code",
   "source": "",
   "outputs": [
    {
     "name": "stdout",
     "output_type": "stream",
     "text": [
      "old left [1, 1, 0, 0, 1, 1, 0, 0, 0, 0, 0, 0, 0, 0, 0, 0, 1, 1, 0, 0, 1, 1, 0, 0, 1, 1, 1, 1, 1, 1, 1, 1]\n",
      "old right [1, 1, 1, 1, 0, 0, 0, 0, 1, 0, 1, 0, 1, 0, 1, 0, 1, 1, 1, 1, 0, 0, 0, 0, 1, 0, 1, 0, 1, 0, 1, 0]\n"
     ]
    }
   ],
   "execution_count": 118
  },
  {
   "metadata": {
    "ExecuteTime": {
     "end_time": "2025-03-07T12:35:03.118461Z",
     "start_time": "2025-03-07T12:35:03.114938Z"
    }
   },
   "cell_type": "code",
   "source": "",
   "outputs": [
    {
     "name": "stdout",
     "output_type": "stream",
     "text": [
      "new left [1, 1, 1, 1, 0, 0, 0, 0, 1, 0, 1, 0, 1, 0, 1, 0, 1, 1, 1, 1, 0, 0, 0, 0, 1, 0, 1, 0, 1, 0, 1, 0]\n",
      "new right [0, 1, 1, 0, 0, 1, 0, 0, 0, 1, 0, 1, 1, 1, 0, 0, 1, 1, 0, 1, 0, 1, 1, 1, 0, 1, 0, 0, 0, 0, 1, 1]\n"
     ]
    }
   ],
   "execution_count": 119
  }
 ],
 "metadata": {
  "colab": {
   "provenance": []
  },
  "kernelspec": {
   "display_name": "Python 3 (ipykernel)",
   "language": "python",
   "name": "python3"
  },
  "language_info": {
   "codemirror_mode": {
    "name": "ipython",
    "version": 3
   },
   "file_extension": ".py",
   "mimetype": "text/x-python",
   "name": "python",
   "nbconvert_exporter": "python",
   "pygments_lexer": "ipython3",
   "version": "3.12.6"
  }
 },
 "nbformat": 4,
 "nbformat_minor": 4
}
